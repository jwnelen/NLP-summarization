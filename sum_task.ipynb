{
 "cells": [
  {
   "cell_type": "code",
   "execution_count": 1,
   "id": "f3c0bfcc",
   "metadata": {},
   "outputs": [
    {
     "name": "stderr",
     "output_type": "stream",
     "text": [
      "/opt/homebrew/Caskroom/miniconda/base/envs/NLP-summarization/lib/python3.10/site-packages/tqdm/auto.py:22: TqdmWarning: IProgress not found. Please update jupyter and ipywidgets. See https://ipywidgets.readthedocs.io/en/stable/user_install.html\n",
      "  from .autonotebook import tqdm as notebook_tqdm\n",
      "Reusing dataset cnn_dailymail (/Users/jeroen/.cache/huggingface/datasets/cnn_dailymail/3.0.0/3.0.0/3cb851bf7cf5826e45d49db2863f627cba583cbc32342df7349dfe6c38060234)\n",
      "100%|████████████████████████████████████████████| 3/3 [00:00<00:00, 132.49it/s]\n"
     ]
    }
   ],
   "source": [
    "from datasets import load_dataset, load_metric\n",
    "from transformers import pipeline\n",
    "\n",
    "raw_dataset = load_dataset('cnn_dailymail', '3.0.0')\n",
    "\n",
    "classifier = pipeline(\"summarization\")"
   ]
  },
  {
   "cell_type": "code",
   "execution_count": 2,
   "id": "10a406f4",
   "metadata": {},
   "outputs": [],
   "source": [
    "def show_examples(dataset, num_samples=3, seed=42):\n",
    "    samples = dataset[\"train\"].shuffle(seed=seed).select(range(num_samples))\n",
    "        \n",
    "    for idx, sample in enumerate(samples):\n",
    "        display(f'sample {idx}: {sample[\"article\"]} \\n')\n",
    "        display(f'highlight {idx}: {sample[\"highlights\"]} \\n')\n",
    "        display('-------')\n",
    "\n",
    "def get_random_sample(dataset):\n",
    "    sample = dataset[\"train\"].shuffle(seed=1).select(range(1)) \n",
    "    return [sample[\"article\"][0], sample[\"highlights\"][0]]"
   ]
  },
  {
   "cell_type": "code",
   "execution_count": 3,
   "id": "bb51370c",
   "metadata": {},
   "outputs": [
    {
     "name": "stderr",
     "output_type": "stream",
     "text": [
      "Loading cached shuffled indices for dataset at /Users/jeroen/.cache/huggingface/datasets/cnn_dailymail/3.0.0/3.0.0/3cb851bf7cf5826e45d49db2863f627cba583cbc32342df7349dfe6c38060234/cache-d65aa25a11484207.arrow\n"
     ]
    },
    {
     "data": {
      "text/plain": [
       "[\"The daughter of football legend Colin Hendry has spoken of her disgust at the Government’s failure to regulate cosmetic surgeons – more than a decade after her mother suffered botched liposuction that led to her death. Denise Hendry died in 2009 aged 42 from an infection she caught during surgery to rebuild her stomach. She had been in and out of hospital for seven years after a plastic surgeon punctured her bowel nine times in a routine liposuction operation in 2002. Anguish: Colin and Denise Hendry with Rheagan and her brother Kyle before Denise's operation . Ongoing battle: Rheagan Hendry, pictured with her daughter River, 2, is campaigning for better regulations after her mother Denise died of a botched liposuction operation . Now her daughter Rheagan Hendry is launching a new Mail on Sunday campaign under the banner Stop The Cosmetic Surgery Cowboys. Rheagan, who lives with her two-year-old daughter River in Lytham St Annes, Lancashire, was just 12 when her mother became ill. In her first major interview since her mother died, Rheagan, 23, says clinic owners ‘answer to no one’ and surgery is becoming ever more dangerous. She is shocked that repeated warnings from senior medics, including a former chief medical officer, have been ignored by Ministers. ‘How many more women need to die or be disfigured before someone takes action?’ said Rheagan, a carer in a home for the elderly. ‘My mother cannot have died in vain.’ Under current rules, doctors who perform cosmetic operations are not required to have any training in the procedures or even to be a surgeon. Foreign doctors are able to fly in, carry out operations and fly out\\xa0 without proper insurance or specialist training. The Mail on Sunday has consulted with leading medical organisations and compiled a five-point action plan to ensure patients are protected from the cowboys. We are demanding that: . Fatal infection: Denise Hendry with her former footballer Colin Hendry. Denise died in 2009 . Former chief medical officer Sir Liam Donaldson, now a professor at Imperial College London, first called for tougher regulations in 2006. Last night he said: ‘I commend The Mail on Sunday on its campaign to protect patients from poor standards of cosmetic treatment.’ Former Health Secretary Stephen Dorrell said: ‘This campaign has\\xa0 the right objectives and something needs to be done. I absolutely agree that anyone carrying out cosmetic training must be properly trained.’ Mr Dorrell added that current regulators needed to play a tougher role. Ann Clwyd MP was appointed by the Prime Minister as an adviser on patient complaints and has recently launched a private members’ Bill, The Cosmetic Surgery Bill, to try to tackle the issue. She said: ‘I am absolutely delighted by The Mail on Sunday campaign and I fully support it.’ In recent years, the number of people opting for cosmetic surgery, including nose jobs, breast enlargements and liposuction, has spiralled. The Royal College of Surgeons estimates that last year alone 130,000 operations were carried out, up five per cent on the previous year. Although many surgeons undergo extra training to ensure they know how to do cosmetic procedures properly, this is not required by law – and in many cases, doctors are not skilled in the procedures they offer. Last year the Government ordered a review of cosmetic surgery\\xa0 following the PIP breast implant scandal. The report by the Department of Health’s medical director, Professor Sir Bruce Keogh, is due to be published shortly.\",\n",
       " 'Denise Hendry was ill for seven years after her botched liposuction .\\nShe eventually died in 2009 from an infection .\\nHer daughter Rheagan Hendry is campaigning for better regulation .\\nRheagan says that clinic owners ‘answer to no one’\\nDoctors must be properly trained in the procedures they undertake.\\nA regulatory body be established to register all cosmetic surgeons.\\nPatients should receive a 30-minute pre-surgery\\xa0 consultation and two-week cooling-off period.\\nHard-sell advertising is banned.\\nBotox professionals be registered with the regulator.']"
      ]
     },
     "execution_count": 3,
     "metadata": {},
     "output_type": "execute_result"
    }
   ],
   "source": [
    "# show_examples(raw_dataset, 1, 23)\n",
    "get_random_sample(raw_dataset)"
   ]
  },
  {
   "cell_type": "code",
   "execution_count": 4,
   "id": "7deb28b9",
   "metadata": {
    "scrolled": true
   },
   "outputs": [],
   "source": [
    "from transformers import AutoTokenizer\n",
    "\n",
    "# A text-to-text transformer from Google\n",
    "# https://ai.googleblog.com/2020/02/exploring-transfer-learning-with-t5.html\n",
    "pretrained_model = \"t5-small\"\n",
    "\n",
    "tokenizer = AutoTokenizer.from_pretrained(pretrained_model)"
   ]
  },
  {
   "cell_type": "code",
   "execution_count": 5,
   "id": "31d730c0",
   "metadata": {},
   "outputs": [
    {
     "name": "stderr",
     "output_type": "stream",
     "text": [
      "Loading cached shuffled indices for dataset at /Users/jeroen/.cache/huggingface/datasets/cnn_dailymail/3.0.0/3.0.0/3cb851bf7cf5826e45d49db2863f627cba583cbc32342df7349dfe6c38060234/cache-d65aa25a11484207.arrow\n"
     ]
    },
    {
     "name": "stdout",
     "output_type": "stream",
     "text": [
      "['▁The', '▁daughter', '▁of', '▁football', '▁legend', '▁Colin', '▁He', 'n', 'dry', '▁has', '▁spoken', '▁of', '▁her', '▁disgust', '▁at', '▁the', '▁Government', '’', 's', '▁failure', '▁to', '▁regulate', '▁cosmetic', '▁surgeon', 's', '▁', '–', '▁more', '▁than', '▁', 'a', '▁decade', '▁after', '▁her', '▁mother', '▁suffered', '▁bot', 'ched', '▁lip', 'o', 's', 'u', 'ction', '▁that', '▁led', '▁to', '▁her', '▁death', '.', '▁Den', 'is', 'e', '▁He', 'n', 'dry', '▁died', '▁in', '▁2009', '▁aged', '▁42', '▁from', '▁an', '▁infection', '▁she', '▁caught', '▁during', '▁surgery', '▁to', '▁rebuild', '▁her', '▁stomach', '.', '▁She', '▁had', '▁been', '▁in', '▁and', '▁out', '▁of', '▁hospital', '▁for', '▁seven', '▁years', '▁after', '▁', 'a', '▁plastic', '▁surgeon', '▁punct', 'ure', 'd', '▁her', '▁', 'bowel', '▁nine', '▁times', '▁in', '▁', 'a', '▁routine', '▁lip', 'o', 's', 'u', 'ction', '▁operation', '▁in', '▁2002', '.', '▁An', 'gu', 'ish', ':', '▁Colin', '▁and', '▁Den', 'is', 'e', '▁He', 'n', 'dry', '▁with', '▁R', 'he', 'a', 'gan', '▁and', '▁her', '▁brother', '▁Kyle', '▁before', '▁Den', 'is', 'e', \"'\", 's', '▁operation', '▁', '.', '▁On', 'going', '▁battle', ':', '▁R', 'he', 'a', 'gan', '▁He', 'n', 'dry', ',', '▁', 'pictured', '▁with', '▁her', '▁daughter', '▁River', ',', '▁2,', '▁is', '▁campaign', 'ing', '▁for', '▁better', '▁regulations', '▁after', '▁her', '▁mother', '▁Den', 'is', 'e', '▁died', '▁of', '▁', 'a', '▁bot', 'ched', '▁lip', 'o', 's', 'u', 'ction', '▁operation', '▁', '.', '▁Now', '▁her', '▁daughter', '▁R', 'he', 'a', 'gan', '▁He', 'n', 'dry', '▁is', '▁', 'launching', '▁', 'a', '▁new', '▁Mail', '▁on', '▁Sunday', '▁campaign', '▁under', '▁the', '▁banner', '▁Stop', '▁The', '▁Cosmetic', '▁Surgery', '▁Cow', 'boy', 's', '.', '▁R', 'he', 'a', 'gan', ',', '▁who', '▁lives', '▁with', '▁her', '▁two', '-', 'year', '-', 'old', '▁daughter', '▁River', '▁in', '▁Ly', 't', 'ham', '▁St', '▁Anne', 's', ',', '▁Lan', 'ca', 'shire', ',', '▁was', '▁just', '▁12', '▁when', '▁her', '▁mother', '▁became', '▁', 'ill', '.', '▁In', '▁her', '▁first', '▁major', '▁interview', '▁since', '▁her', '▁mother', '▁died', ',', '▁R', 'he', 'a', 'gan', ',', '▁23,', '▁says', '▁clinic', '▁owners', '▁‘', 'ans', 'wer', '▁to', '▁no', '▁one', '’', '▁and', '▁surgery', '▁is', '▁becoming', '▁ever', '▁more', '▁dangerous', '.', '▁She', '▁is', '▁shocked', '▁that', '▁repeated', '▁warning', 's', '▁from', '▁senior', '▁medic', 's', ',', '▁including', '▁', 'a', '▁former', '▁chief', '▁medical', '▁officer', ',', '▁have', '▁been', '▁ignored', '▁by', '▁Minister', 's', '.', '▁‘', 'How', '▁many', '▁more', '▁women', '▁need', '▁to', '▁die', '▁or', '▁be', '▁dis', 'figured', '▁before', '▁someone', '▁takes', '▁action', '?', '’', '▁said', '▁R', 'he', 'a', 'gan', ',', '▁', 'a', '▁care', 'r', '▁in', '▁', 'a', '▁home', '▁for', '▁the', '▁elderly', '.', '▁‘', 'My', '▁mother', '▁cannot', '▁have', '▁died', '▁in', '▁va', 'in', '.', '’', '▁Under', '▁current', '▁rules', ',', '▁doctors', '▁who', '▁perform', '▁cosmetic', '▁operations', '▁are', '▁not', '▁required', '▁to', '▁have', '▁any', '▁training', '▁in', '▁the', '▁procedures', '▁or', '▁even', '▁to', '▁be', '▁', 'a', '▁surgeon', '.', '▁Foreign', '▁doctors', '▁are', '▁', 'able', '▁to', '▁fly', '▁in', ',', '▁carry', '▁out', '▁operations', '▁and', '▁fly', '▁out', '▁without', '▁proper', '▁insurance', '▁or', '▁specialist', '▁training', '.', '▁The', '▁Mail', '▁on', '▁Sunday', '▁has', '▁', 'consulted', '▁with', '▁leading', '▁medical', '▁organisations', '▁and', '▁', 'compiled', '▁', 'a', '▁five', '-', 'point', '▁action', '▁plan', '▁to', '▁ensure', '▁patients', '▁are', '▁protected', '▁from', '▁the', '▁cow', 'boy', 's', '.', '▁We', '▁are', '▁demanding', '▁that', ':', '▁', '.', '▁Fat', 'al', '▁infection', ':', '▁Den', 'is', 'e', '▁He', 'n', 'dry', '▁with', '▁her', '▁former', '▁football', 'er', '▁Colin', '▁He', 'n', 'dry', '.', '▁Den', 'is', 'e', '▁died', '▁in', '▁2009', '▁', '.', '▁Former', '▁chief', '▁medical', '▁officer', '▁Sir', '▁Li', 'am', '▁Donald', 'son', ',', '▁now', '▁', 'a', '▁professor', '▁at', '▁Imperial', '▁College', '▁London', ',', '▁first', '▁called', '▁for', '▁tough', 'er', '▁regulations', '▁in', '▁2006.', '▁Last', '▁night', '▁', 'he', '▁said', ':', '▁‘', 'I', '▁comme', 'nd', '▁The', '▁Mail', '▁on', '▁Sunday', '▁on', '▁its', '▁campaign', '▁to', '▁protect', '▁patients', '▁from', '▁poor', '▁standards', '▁of', '▁cosmetic', '▁treatment', '.', '’', '▁Former', '▁Health', '▁Secretary', '▁Stephen', '▁Do', 'rrell', '▁said', ':', '▁‘', 'This', '▁campaign', '▁has', '▁the', '▁right', '▁objectives', '▁and', '▁something', '▁needs', '▁to', '▁be', '▁done', '.', '▁I', '▁absolutely', '▁agree', '▁that', '▁anyone', '▁carrying', '▁out', '▁cosmetic', '▁training', '▁must', '▁be', '▁properly', '▁trained', '.', '’', '▁Mr', '▁Do', 'rrell', '▁added', '▁that', '▁current', '▁regulator', 's', '▁needed', '▁to', '▁play', '▁', 'a', '▁tough', 'er', '▁role', '.', '▁Ann', '▁Cl', 'w', 'y', 'd', '▁MP', '▁was', '▁appointed', '▁by', '▁the', '▁Prime', '▁Minister', '▁as', '▁an', '▁adviser', '▁on', '▁patient', '▁complaints', '▁and', '▁has', '▁recently', '▁launched', '▁', 'a', '▁private', '▁members', '’', '▁Bill', ',', '▁The', '▁Cosmetic', '▁Surgery', '▁Bill', ',', '▁to', '▁try', '▁to', '▁tackle', '▁the', '▁issue', '.', '▁She', '▁said', ':', '▁‘', 'I', '▁am', '▁absolutely', '▁delighted', '▁by', '▁The', '▁Mail', '▁on', '▁Sunday', '▁campaign', '▁and', '▁I', '▁fully', '▁support', '▁it', '.', '’', '▁In', '▁recent', '▁years', ',', '▁the', '▁number', '▁of', '▁people', '▁opt', 'ing', '▁for', '▁cosmetic', '▁surgery', ',', '▁including', '▁nose', '▁jobs', ',', '▁breast', '▁', 'en', 'largement', 's', '▁and', '▁lip', 'o', 's', 'u', 'ction', ',', '▁has', '▁spiral', 'led', '.', '▁The', '▁Royal', '▁College', '▁of', '▁S', 'urgeon', 's', '▁estimates', '▁that', '▁last', '▁year', '▁alone', '▁1', '30,000', '▁operations', '▁were', '▁carried', '▁out', ',', '▁up', '▁five', '▁per', '▁cent', '▁on', '▁the', '▁previous', '▁year', '.', '▁Although', '▁many', '▁surgeon', 's', '▁undergo', '▁extra', '▁training', '▁to', '▁ensure', '▁they', '▁know', '▁how', '▁to', '▁do', '▁cosmetic', '▁procedures', '▁properly', ',', '▁this', '▁is', '▁not', '▁required', '▁by', '▁law', '▁', '–', '▁and', '▁in', '▁many', '▁cases', ',', '▁doctors', '▁are', '▁not', '▁skilled', '▁in', '▁the', '▁procedures', '▁they', '▁offer', '.', '▁Last', '▁year', '▁the', '▁Government', '▁ordered', '▁', 'a', '▁review', '▁of', '▁cosmetic', '▁surgery', '▁following', '▁the', '▁P', 'IP', '▁breast', '▁implant', '▁scandal', '.', '▁The', '▁report', '▁by', '▁the', '▁Department', '▁of', '▁Health', '’', 's', '▁medical', '▁director', ',', '▁Professor', '▁Sir', '▁Bruce', '▁Ke', 'o', 'g', 'h', ',', '▁is', '▁due', '▁to', '▁be', '▁published', '▁shortly', '.']\n"
     ]
    }
   ],
   "source": [
    "article, highlight = get_random_sample(raw_dataset)\n",
    "print(tokenizer.tokenize(article))"
   ]
  },
  {
   "cell_type": "code",
   "execution_count": 6,
   "id": "03fb6616",
   "metadata": {},
   "outputs": [],
   "source": [
    "metric = load_metric(\"rouge\")"
   ]
  }
 ],
 "metadata": {
  "kernelspec": {
   "display_name": "NLP-summarization",
   "language": "python",
   "name": "nlp-summarization"
  },
  "language_info": {
   "codemirror_mode": {
    "name": "ipython",
    "version": 3
   },
   "file_extension": ".py",
   "mimetype": "text/x-python",
   "name": "python",
   "nbconvert_exporter": "python",
   "pygments_lexer": "ipython3",
   "version": "3.10.2"
  }
 },
 "nbformat": 4,
 "nbformat_minor": 5
}
