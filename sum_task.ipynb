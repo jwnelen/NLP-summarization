{
 "cells": [
  {
   "cell_type": "code",
   "execution_count": 2,
   "id": "f3c0bfcc",
   "metadata": {},
   "outputs": [
    {
     "name": "stderr",
     "output_type": "stream",
     "text": [
      "/opt/homebrew/Caskroom/miniconda/base/envs/NLP-summarization/lib/python3.10/site-packages/tqdm/auto.py:22: TqdmWarning: IProgress not found. Please update jupyter and ipywidgets. See https://ipywidgets.readthedocs.io/en/stable/user_install.html\n",
      "  from .autonotebook import tqdm as notebook_tqdm\n",
      "Reusing dataset cnn_dailymail (/Users/jeroen/.cache/huggingface/datasets/cnn_dailymail/3.0.0/3.0.0/3cb851bf7cf5826e45d49db2863f627cba583cbc32342df7349dfe6c38060234)\n",
      "100%|████████████████████████████████████████████| 3/3 [00:00<00:00, 132.37it/s]\n"
     ]
    }
   ],
   "source": [
    "from datasets import load_dataset\n",
    "from transformers import pipeline\n",
    "\n",
    "raw_dataset = load_dataset('cnn_dailymail', '3.0.0')\n",
    "\n",
    "classifier = pipeline(\"summarization\")"
   ]
  },
  {
   "cell_type": "code",
   "execution_count": 24,
   "id": "87cb2155",
   "metadata": {},
   "outputs": [],
   "source": [
    "def show_examples(dataset, num_samples=3, seed=42):\n",
    "    samples = dataset[\"train\"].shuffle(seed=seed).select(range(num_samples))\n",
    "        \n",
    "    for idx, sample in enumerate(samples):\n",
    "        print(f'sample {idx}: {sample[\"article\"]} \\n')\n",
    "        print(f'highlight {idx}: {sample[\"highlights\"]} \\n')\n",
    "        print('-------')"
   ]
  },
  {
   "cell_type": "code",
   "execution_count": 25,
   "id": "bb51370c",
   "metadata": {
    "scrolled": false
   },
   "outputs": [
    {
     "name": "stderr",
     "output_type": "stream",
     "text": [
      "Loading cached shuffled indices for dataset at /Users/jeroen/.cache/huggingface/datasets/cnn_dailymail/3.0.0/3.0.0/3cb851bf7cf5826e45d49db2863f627cba583cbc32342df7349dfe6c38060234/cache-516bef66c83f0d37.arrow\n"
     ]
    },
    {
     "name": "stdout",
     "output_type": "stream",
     "text": [
      "sample 0: A protester in Ferguson was arrested during a demonstration on Thursday night - and live-tweeted her entire experience. Brittany Ferrell, a nursing student at the University of Missouri-Saint Louis, was one of 13 people detained by officers in the conflicted Missouri city for 'noise disruption'. The detention has sparked an investigation by the American Civil Liberties Union as lawyers accuse officers of overstretching their powers. Scroll down for video . Arrested: This is Brittany Ferrell, the nursing student and protester who live-tweeted her arrest in Ferguson . Tweeting in handcuffs, she then took her thousands of followers through the uncertain few hours before the nine women and four men eventually learned what they had done wrong and managed to secure their release. She started with the tweet: 'We are all arrested', apparently referring to herself an other members of the advocacy group Millenial Activists United. 'Tweeting while cuffed,' she wrote, adding: 'We were arrested while on the side walk by the way'. According to her Twitter feed, she was piled into a wagon with seven other people and not told where they were going. Enraged, she then reported the reason the group was arrested: 'They said we violated the \"noise\" ordinance\" it's been 50+ days... NOW they effort a noise ordinance. Bull****'. The group started chanting 'no justice, no peace!' in the back of the wagon. 'They think it's a game,' she said. 'Noise disruption': Ms Ferrell was one of 13 people from the advocacy group Millennial Activists United who were arrested on the side walk during a demonstration (pictured) on Thursday following Michael Brown's death . Her followers informed her clergy were en route to the prison to offer support. Arriving at St Ann Police Station, they were dressed in orange jumpsuits, placed in a cell and 'treated like criminals', while officers said the bail would be doubled for anyone who had been arrested before. Ms Ferrell's bail was set at $2,300, she said. More than three hours after the arrest they were informed they would be released before the night was over, but Ms Ferrell said: 'no one can give us clear answers on anything though. aside from the fact that we will be out and that people are working on it now.' She added: 'Again, all 13 of us are still in jail,' tweeting pictures of the four men and eight women she was sat with. Around an hour later, after crowds swarmed around the police station, the group was released. Local media reported protesters lay on the ground around the arrestees' cars to stop them from being towed. Many of the jail bonds were waived, according to the Argus Streaming News account on Twitter, but not for all. Later, Ms Ferrell told her followers: 'They straight criminalized us. made us stand in a cage. asked us if they turned their backs would we cause trouble. we are protestors!' 'The way we've been treated you would think WE are murderers, con artists, robbers. the mentality of the officers that handled us was insane.' Tony Rothert, an attorney for the American Civil Liberties Union office in St. Louis, said several complaints have been lodged about Thursday's arrests and the ACLU is investigating. 'There do appear to be, if not bogus, at least unnecessary arrests,' said Rothert, who had no details about why the protesters were arrested. He also questioned why they'd be jailed on a 24-hour hold. 'Holding people unnecessarily long, arresting them when it's not necessary — that's an indication of overreach,' Rothert said. 'It certainly appears that the purpose is to discourage people from coming to Ferguson to protest.' Released: The nine women and four men celebrated as they were released and uncuffed hours later . Investigation: Lawyers will now launch an investigation into unnecessary arrests made by Ferguson police . Conflict: Last week, the police department was condemned by the Department of Justice for refusing to effect change as it emerged numerous officers were still not wearing identification or covering their badges . Hundreds of people have been arrested during nearly two months of protests in Ferguson, including journalists and clergy members. The incident comes amid volatile outbursts in the city, where citizens and the Department of Justice are accusing police of failing to take action to repair racial divides. In a letter to the Ferguson Police Department (FPD) last Tuesday, the department said its own investigators have spotted officers without name tags and refusing to identify themselves to members of the public. The practise violates FPD rules, the department pointed out, and is illegal in many states. It added: 'The failure to wear name plates conveys a message to community members that, through anonymity, officers may seek to act with impunity'. Just days later the letter was followed by a second on Friday, as it emerged the first one had been ignored. 'It further was reported to us that some officers affirmatively displaying these bracelets had black tape over their name plates. 'The practice of not wearing, or obscuring, name plates violates your own department's policies, which we advised you earlier this week when we requested that you end the practice imrnediately.' The second letter also addressed the news that officers were sporting 'I Am Darren Wilson' bracelets in an apparent show of solidarity to the man that shot Michael Brown. \n",
      "\n",
      "sample 0: Brittany Ferrell, nursing student, was arrested with 12 people on Thursday .\n",
      "They were calling on police take responsibility for Michael Brown's death .\n",
      "Ms Ferrell tweeted as she was arrested, piled in a small wagon with 7 others .\n",
      "They were accused of 'noise disruption', put in orange jumpsuits and cuffed .\n",
      "Officers now being investigated, lawyers claim they 'overstretched powers' \n",
      "\n",
      "-------\n",
      "sample 1: A day after confirming it had lost the ability to display Instagram images, Twitter has rolled out its own library of retro filters for its Android and iPhone apps. The eight filters are the usual suspects we've come to expect from mobile photo apps, including desaturated, black and white and high contrast. There are auto-adjust and cropping options, as well as a helpful grid view that lets you see what each filter will look like at once. \"The latest versions of Twitter for iPhone and Twitter for Android introduce a few new ways to enhance the images you tweet,\" said Twitter senior designer Coleen Baik in a blog post announcing the new features. She emphasized that images are important to Twitter users, and called photos \"one of the most compelling forms of self-expression.\" The new filters were designed especially for Twitter by photo-editing service Aviary, which also handles edits for various partners such as Flickr and Twitpic. What the effects lack in originality, they will no doubt make up for in popularity. Filters are an easy alternative to tinkering with an image in a photo editor, and their retro aesthetic has helped Instagram get more than 150 million users. Instagram also released an app update Monday, giving its iOS app a fresh new look and adding a new black and white filter. There's a new grid overlay, better tilt-shift effects and a bigger shutter button among other tweaks. Twitter is in direct competition for users and ad dollars with Facebook, which owns Instagram. Until this week, if you shared an Instagram photo on Twitter, it would appear in the expanded tweet. But on Sunday, the companies confirmed that feature was no more, the image replaced with a link to the photo on Instagram's site. The addition of in-app filters is great for Twitter users who didn't like the extra step of launching Instagram or another photo editing app to spruce up images. Twitter first added the ability to include images in tweets a year and a half ago. Slight improvements on the individual social networks might not make up for the larger loss of cross-service functionality, but the split between competitors was inevitable. If you have an Android device, the updated Twitter app is available now in the Google Play store. It is coming soon to Apple's App Store. \n",
      "\n",
      "sample 1: Twitter has added photo filters to its Android and iOS mobile apps .\n",
      "The addition will help Twitter compete against Facebook-owned Instagram .\n",
      "This is the first time the social network has offered image editing tools . \n",
      "\n",
      "-------\n",
      "sample 2: By . Jason Groves . PUBLISHED: . 19:31 EST, 14 June 2013 . | . UPDATED: . 19:50 EST, 14 June 2013 . A lawyer for the Leveson Inquiry who had an affair with Hugh Grant’s barrister played a significant role in the inquiry, Lord Justice Leveson admitted last night. The judge had initially suggested that Carine Patry Hoskins played only a minor role in his inquiry, carrying out work that was ‘largely mechanical’. But, following revelations that she was paid £218,000 for her work between July 2011 and November 2012, he came under pressure to reveal more about her role. Affair: Celebrities' barrister Mr Sherborne and  Mrs Patry Hoskins, a . member of Lord Justice Leveson’s legal team,  claim their relationship . did not start until after the inquiry . In a letter to the Tory MP Rob Wilson, . the judge said she had also played a key role in drawing up lines of . questioning used by the inquiry’s lead counsel Robert Jay, as well as . questioning witnesses herself, reviewing witness statements and . researching areas of the law. However the letter said nothing about her role in drawing up the so-called Rule 13 letters outlining the inquiry’s criticisms of the Press before the report was published. Lord Justice Leveson insists the conclusions of his report were his alone. But Mr Wilson said the revelations would underline public concern about whether the Leveson Inquiry’s findings could have been compromised by an affair between Miss Patry Hoskins, a married mother of two, and David Sherbourne, a barrister representing Mr Grant and other celebrities campaigning for regulation of the Press. Miss Patry Hoskins, who became known as the ‘woman on the left’ during the televised hearings, was junior counsel in the team led by  Mr Jay. She went on holiday to the Greek island of Santorini with Mr Sherbourne in August last year – while the inquiry was being conducted. Lord Justice Leveson admitted that the barrister had in fact had a significant role in the inquiry . The pair claim they simply discussed the ‘possibility of a future relationship and decided against it’. They say they changed their minds later and became a couple after the inquiry ended in December. Mr Wilson said: ‘We now learn that Carine Patry Hoskins did indeed  provide important legal advice to the Leveson Inquiry, and dealt with  witnesses and made assessments of the evidence on behalf of the inquiry. This must have had some bearing on the inquiry’s work, whether she had a formal input into the drafting of the report or not. ‘It would be completely inappropriate for someone to carry out these important tasks for an impartial public inquiry while developing such close personal relations with one of the parties’ barristers to the point that they went on holiday together to contemplate an affair. Holiday together: The pair went on a break to the island of Santorini (pictured) in Greece . ‘I am very surprised that Lord Justice Leveson has not already taken the many opportunities available to him to make this clear.’ In his latest letter, Lord Leveson again denied that Miss Patry Hoskins influenced his final report. He said she had ‘no input into the conclusions or recommendations in the report itself’. In April last year Miss Patry Hoskins told people at the inquiry she was helping to draft the Rule 13 letters, which set out criticisms of the Press across 120 pages that appeared largely unchanged in the final report later in the year. The letters were sent to newspaper editors in mid-August, when Miss Patry Hoskins claims she was contemplating an affair with Mr Sherbourne. Lord Justice Leveson’s latest letter makes no reference to her work in this area, focusing on her work in the early stages of the inquiry. He has previously said she merely ‘assisted in the largely mechanical exercise of collecting and organising the evidence to support the generic criticisms’ set out in the letters. \n",
      "\n",
      "sample 2: Judge initially suggested that Carine Patry Hoskins played only a minor role .\n",
      "She was paid £218,000 for her work between July 2011 and November 2012 .\n",
      "Hoskins had an affair with Hacked Off lawyer David Sherbourne .\n",
      "Leveson now says she had also played a key role in drawing up lines of .\n",
      "questioning used by the inquiry’s lead counsel Robert Jay . \n",
      "\n",
      "-------\n"
     ]
    }
   ],
   "source": [
    "show_examples(raw_dataset, 1,)"
   ]
  }
 ],
 "metadata": {
  "kernelspec": {
   "display_name": "NLP-summarization",
   "language": "python",
   "name": "nlp-summarization"
  },
  "language_info": {
   "codemirror_mode": {
    "name": "ipython",
    "version": 3
   },
   "file_extension": ".py",
   "mimetype": "text/x-python",
   "name": "python",
   "nbconvert_exporter": "python",
   "pygments_lexer": "ipython3",
   "version": "3.10.2"
  }
 },
 "nbformat": 4,
 "nbformat_minor": 5
}
