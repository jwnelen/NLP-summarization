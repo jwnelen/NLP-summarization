{
 "cells": [
  {
   "cell_type": "markdown",
   "id": "13b17139",
   "metadata": {},
   "source": [
    "Model https://huggingface.co/mrm8488/bert-mini2bert-mini-finetuned-cnn_daily_mail-summarization\n",
    "\n",
    "Original colab https://colab.research.google.com/drive/1Ekd5pUeCX7VOrMx94_czTkwNtLN32Uyu?usp=sharing#scrollTo=oOoSrwWarJAC"
   ]
  },
  {
   "cell_type": "code",
   "execution_count": 32,
   "id": "b3074687",
   "metadata": {},
   "outputs": [
    {
     "data": {
      "text/plain": [
       "'hello'"
      ]
     },
     "metadata": {},
     "output_type": "display_data"
    }
   ],
   "source": [
    "display(\"hello\")"
   ]
  },
  {
   "cell_type": "code",
   "execution_count": 1,
   "id": "bc3c6bed",
   "metadata": {},
   "outputs": [
    {
     "name": "stderr",
     "output_type": "stream",
     "text": [
      "/opt/homebrew/Caskroom/miniconda/base/envs/NLP-summarization/lib/python3.10/site-packages/tqdm/auto.py:22: TqdmWarning: IProgress not found. Please update jupyter and ipywidgets. See https://ipywidgets.readthedocs.io/en/stable/user_install.html\n",
      "  from .autonotebook import tqdm as notebook_tqdm\n"
     ]
    }
   ],
   "source": [
    "from transformers import AutoTokenizer, AutoModelForSeq2SeqLM\n",
    "\n",
    "# Judging from the original colab this resolves to BertTokenizer \n",
    "tokenizer = AutoTokenizer.from_pretrained(\"mrm8488/bert-mini2bert-mini-finetuned-cnn_daily_mail-summarization\")\n",
    "\n",
    "# Judging from the original colab this resolves to EncoderDecoderModel\n",
    "model = AutoModelForSeq2SeqLM.from_pretrained(\"mrm8488/bert-mini2bert-mini-finetuned-cnn_daily_mail-summarization\")"
   ]
  },
  {
   "cell_type": "code",
   "execution_count": 2,
   "id": "b534e915",
   "metadata": {
    "scrolled": false
   },
   "outputs": [
    {
     "name": "stderr",
     "output_type": "stream",
     "text": [
      "Reusing dataset cnn_dailymail (/Users/jeroen/.cache/huggingface/datasets/cnn_dailymail/3.0.0/3.0.0/3cb851bf7cf5826e45d49db2863f627cba583cbc32342df7349dfe6c38060234)\n",
      "100%|█████████████████████████████████████████████| 1/1 [00:09<00:00,  9.81s/ba]"
     ]
    },
    {
     "name": "stdout",
     "output_type": "stream",
     "text": [
      "['\" the dukes of hazzard \" died monday after a brief illness. his character became known for his distinctive \" kew - kew \" chuckle and for goofy catchphrases such as \" cuff\\'em! \" upon making an arrest. \" jimmy best was the most constantly creative person i have ever known, \" co - star john schneider says.', 'randy zelin defends his client, dr. anthony moschetto, who faces criminal solicitation, conspiracy, burglary, arson, criminal prescription sale and weapons charges in connection to what prosecutors call a plot to take out a rival doctor on long island. he was released after posting $ 2 million bond and surrendering his passport.', 'president obama took part in a roundtable discussion this week on climate change and public health. he credits the clean air act with making americans \" a lot \" healthier, in addition to being able to \" see the mountains in the background because they aren\\'t covered in smog, \" obama says.', 'the video features a gay couple holding hands, got 18 + rating from the independent tv rain channel in russia on monday. the video was released over the weekend to announce the start of her 2016 u. s. presidential campaign. it features about five seconds of two men holding hands ; one of the men says \" gay rights are human rights \"', 'marco rubio is a member of the senate \" gang of 8 \" that crafted a bipartisan proposal for comprehensive reform, including a path to citizenship for the nation\\'s estimated 11 million undocumented immigrants. rubio says he\\'s not counting on his ethnicity and personal history as the son of immigrants to win over hispanics.', '\" orphan black, \" 9 p. m. et, saturday, april 18, bbc america. the show is one of the most critically acclaimed shows on the show. \" clone club \" have a lot to look forward to when the show premieres on saturday. \" it\\'s incredible... and that\\'s just because we\\'re getting more comfortable \"', 'flight 448 was on its way to los angeles, only spent 14 minutes in the air. the man was making himself known in other ways as the crew and passengers reported unusual banging from the belly of the boeing 737. the incident happened in seattle - tacoma international airport on monday afternoon.', 'mullah mohammed omar is \" still the leader \" of the taliban\\'s self - declared islamic emirate of afghanistan. omar was famously camera - shy during a taliban\\'six - year rule over most of afghanistan\\'s afghanistan - led bombing campaign. the taliban have released written statements purportedly made by the leader - in hiding.', 'michelle maclaren is leaving the upcoming \" wonder woman \" movie. the film is the first theatrical movie centering around the most popular female superhero. the movie, starring gal gadot in the title role of the amazon princess, is still set for release on june 23, 2017.', \"police say the burglar alarm had been activated at hatton garden safe deposit ltd. police say they knew a burglary alarm went off but didn't respond. police have not released any video of the thief, police say. police are still identifying the owners of ransacked safe deposit boxes and trying to contact them.\", 'toya graham : \" he was embarrassing himself by wearing that mask and that hoodie and doing what he was doing \" \" i did ( get emotional ), \" graham says. \" i didn\\'t want me to be like another freddie gray, \" he says. graham says he\\'s not a perfect child, but he is not a thug, she says.', 'a small number of surgeons are using an ancient technology to carry out the primitive surgery. the technique can produce cutting edges many times finer than even the best steel scalpels. it can also produce cutting edge that tears into tissue, a function of the crystals that make up the metal, he says. the techniques are used in ancient egyptian egyptian, setting up a blind test.', 'more than 500 houthi rebels have been killed since the start of saudi - led military operations. the nine - nation coalition has undertaken 1, 200 airstrikes since they began on march 26. yemen has been descending into chaos in the weeks since houthis rebels have long complained of being marginalized.', 'nearly 6 in 10 americans say businesses should be required to serve same - sex couples. poll finds 57 % feel businesses should not be allowed to serve gay or lesbian couples. democrats and republican - leaners oppose allowing a caterer or florist to refuse service for religious reasons. poll : 57 % say religious reasons are a valid justification for refusing service.', 'james holmes is accused of opening fire on the crowd, killing 12 people and injuring or maiming 70 others in aurora, colorado. holmes has a cleaner look, with a mustache, button - down shirt and khaki pants. holmes was a doctoral student in neuroscience, and was studying how he committed the acts that resulted in the tragic loss of life.', 'eight million children urgently in need of help. more than 9, 000 people were injured in the landslide, a trekking association official says. nepal\\'s home ministry : \" we never imagined this would happen to us, \" one survivor says. one million people died in a landslide in kathmandu, nepal.']\n",
      "Score(precision=0.08623144151394384, recall=0.15857249688676955, fmeasure=0.10977717067102197)\n"
     ]
    },
    {
     "name": "stderr",
     "output_type": "stream",
     "text": [
      "\n"
     ]
    }
   ],
   "source": [
    "import datasets\n",
    "from transformers import BertTokenizer, EncoderDecoderModel\n",
    "rouge = datasets.load_metric(\"rouge\")\n",
    "\n",
    "test_data = datasets.load_dataset(\"cnn_dailymail\", \"3.0.0\", split=\"test\")\n",
    "\n",
    "# only use 16 training examples for notebook - DELETE LINE FOR FULL TRAINING\n",
    "r = 16\n",
    "test_data = test_data.select(range(r))\n",
    "\n",
    "batch_size = 16 # change to 64 for full evaluation\n",
    "\n",
    "# map data correctly\n",
    "def generate_summary(batch):\n",
    "    # Tokenizer will automatically set [BOS] <text> [EOS]\n",
    "    # cut off at BERT max length 512\n",
    "    inputs = tokenizer(batch[\"article\"], padding=\"max_length\", truncation=True, max_length=512, return_tensors=\"pt\")\n",
    "#     print(inputs)\n",
    "    input_ids = inputs.input_ids#.to(\"cuda\")\n",
    "    attention_mask = inputs.attention_mask#.to(\"cuda\")\n",
    "    \n",
    "    outputs = model.generate(input_ids, attention_mask=attention_mask)\n",
    "    \n",
    "    # all special tokens including will be removed\n",
    "    output_str = tokenizer.batch_decode(outputs, skip_special_tokens=True)\n",
    "    print(output_str)\n",
    "    \n",
    "    batch[\"pred\"] = output_str\n",
    "\n",
    "    return batch\n",
    "\n",
    "results = test_data.map(generate_summary, batched=True, batch_size=batch_size)\n",
    "\n",
    "pred_str = results[\"pred\"]\n",
    "label_str = results[\"highlights\"]\n",
    "\n",
    "rouge_output = rouge.compute(predictions=pred_str, references=label_str, rouge_types=[\"rouge2\"])[\"rouge2\"].mid\n",
    "\n",
    "print(rouge_output)"
   ]
  },
  {
   "cell_type": "code",
   "execution_count": 33,
   "id": "8ceebff2",
   "metadata": {
    "scrolled": false
   },
   "outputs": [
    {
     "name": "stderr",
     "output_type": "stream",
     "text": [
      "/var/folders/np/sw3cwd7x6rv0llrv26d2w1s40000gn/T/ipykernel_1875/592430296.py:2: DeprecationWarning: Importing display from IPython.core.display is deprecated since IPython 7.14, please import from IPython display\n",
      "  from IPython.core.display import display, HTML\n"
     ]
    },
    {
     "data": {
      "text/html": [
       "<strong>Real Summary</strong><br>James <span style=\"background-color:rgba(255,215,0,0.3);\">Best,</span> who played <span style=\"background-color:rgba(255,215,0,0.3);\">the</span> sheriff on <span style=\"background-color:rgba(255,215,0,0.3);\">\"The</span> <span style=\"background-color:rgba(255,215,0,0.3);\">Dukes</span> <span style=\"background-color:rgba(255,215,0,0.3);\">of</span> <span style=\"background-color:rgba(255,215,0,0.3);\">Hazzard,\"</span> <span style=\"background-color:rgba(255,215,0,0.3);\">died</span> <span style=\"background-color:rgba(255,215,0,0.3);\">Monday</span> at 88 <span style=\"background-color:rgba(255,215,0,0.3);\">.</span> <span style=\"background-color:rgba(255,215,0,0.3);\">\"Hazzard\"</span> ran from 1979 to 1985 <span style=\"background-color:rgba(255,215,0,0.3);\">and</span> <span style=\"background-color:rgba(255,215,0,0.3);\">was</span> among <span style=\"background-color:rgba(255,215,0,0.3);\">the</span> <span style=\"background-color:rgba(255,215,0,0.3);\">most</span> popular shows on TV <span style=\"background-color:rgba(255,215,0,0.3);\">.</span><br><br><strong>Predicted Summary (rouge-1: 16.216215745799868, rouge-2:  2.325580948350545)</strong><br><span style=\"background-color:rgba(255,215,0,0.3);\">\"</span> <span style=\"background-color:rgba(255,215,0,0.3);\">the</span> <span style=\"background-color:rgba(255,215,0,0.3);\">dukes</span> <span style=\"background-color:rgba(255,215,0,0.3);\">of</span> <span style=\"background-color:rgba(255,215,0,0.3);\">hazzard</span> <span style=\"background-color:rgba(255,215,0,0.3);\">\"</span> <span style=\"background-color:rgba(255,215,0,0.3);\">died</span> <span style=\"background-color:rgba(255,215,0,0.3);\">monday</span> after a brief illness. his character became known for his distinctive <span style=\"background-color:rgba(255,215,0,0.3);\">\"</span> kew <span style=\"background-color:rgba(255,215,0,0.3);\">-</span> kew <span style=\"background-color:rgba(255,215,0,0.3);\">\"</span> chuckle <span style=\"background-color:rgba(255,215,0,0.3);\">and</span> for goofy catchphrases such as <span style=\"background-color:rgba(255,215,0,0.3);\">\"</span> cuff'em! <span style=\"background-color:rgba(255,215,0,0.3);\">\"</span> upon making an arrest. <span style=\"background-color:rgba(255,215,0,0.3);\">\"</span> jimmy <span style=\"background-color:rgba(255,215,0,0.3);\">best</span> <span style=\"background-color:rgba(255,215,0,0.3);\">was</span> <span style=\"background-color:rgba(255,215,0,0.3);\">the</span> <span style=\"background-color:rgba(255,215,0,0.3);\">most</span> constantly creative person i have ever known, <span style=\"background-color:rgba(255,215,0,0.3);\">\"</span> co <span style=\"background-color:rgba(255,215,0,0.3);\">-</span> star john schneider says."
      ],
      "text/plain": [
       "<IPython.core.display.HTML object>"
      ]
     },
     "metadata": {},
     "output_type": "display_data"
    },
    {
     "name": "stdout",
     "output_type": "stream",
     "text": [
      "---\n"
     ]
    },
    {
     "data": {
      "text/html": [
       "<strong>Real Summary</strong><br><span style=\"background-color:rgba(255,215,0,0.3);\">A</span> lawyer for <span style=\"background-color:rgba(255,215,0,0.3);\">Dr.</span> <span style=\"background-color:rgba(255,215,0,0.3);\">Anthony</span> <span style=\"background-color:rgba(255,215,0,0.3);\">Moschetto</span> says the <span style=\"background-color:rgba(255,215,0,0.3);\">charges</span> against him are baseless <span style=\"background-color:rgba(255,215,0,0.3);\">.</span> <span style=\"background-color:rgba(255,215,0,0.3);\">Moschetto,</span> 54, <span style=\"background-color:rgba(255,215,0,0.3);\">was</span> arrested for selling drugs <span style=\"background-color:rgba(255,215,0,0.3);\">and</span> <span style=\"background-color:rgba(255,215,0,0.3);\">weapons,</span> <span style=\"background-color:rgba(255,215,0,0.3);\">prosecutors</span> say <span style=\"background-color:rgba(255,215,0,0.3);\">.</span> Authorities allege <span style=\"background-color:rgba(255,215,0,0.3);\">Moschetto</span> hired accomplices <span style=\"background-color:rgba(255,215,0,0.3);\">to</span> burn down the practice of former associate <span style=\"background-color:rgba(255,215,0,0.3);\">.</span><br><br><strong>Predicted Summary (rouge-1: 12.499999511250019, rouge-2:  0.0)</strong><br>randy zelin defends his client, <span style=\"background-color:rgba(255,215,0,0.3);\">dr.</span> <span style=\"background-color:rgba(255,215,0,0.3);\">anthony</span> <span style=\"background-color:rgba(255,215,0,0.3);\">moschetto,</span> who faces criminal solicitation, conspiracy, burglary, arson, criminal prescription sale <span style=\"background-color:rgba(255,215,0,0.3);\">and</span> <span style=\"background-color:rgba(255,215,0,0.3);\">weapons</span> <span style=\"background-color:rgba(255,215,0,0.3);\">charges</span> in connection <span style=\"background-color:rgba(255,215,0,0.3);\">to</span> what <span style=\"background-color:rgba(255,215,0,0.3);\">prosecutors</span> call <span style=\"background-color:rgba(255,215,0,0.3);\">a</span> plot <span style=\"background-color:rgba(255,215,0,0.3);\">to</span> take out <span style=\"background-color:rgba(255,215,0,0.3);\">a</span> rival doctor on long island. he <span style=\"background-color:rgba(255,215,0,0.3);\">was</span> released after posting <span style=\"background-color:rgba(255,215,0,0.3);\">$</span> 2 million bond <span style=\"background-color:rgba(255,215,0,0.3);\">and</span> surrendering his passport."
      ],
      "text/plain": [
       "<IPython.core.display.HTML object>"
      ]
     },
     "metadata": {},
     "output_type": "display_data"
    },
    {
     "name": "stdout",
     "output_type": "stream",
     "text": [
      "---\n"
     ]
    },
    {
     "data": {
      "text/html": [
       "<strong>Real Summary</strong><br>\"No challenge poses more of <span style=\"background-color:rgba(255,215,0,0.3);\">a</span> <span style=\"background-color:rgba(255,215,0,0.3);\">public</span> threat than <span style=\"background-color:rgba(255,215,0,0.3);\">climate</span> <span style=\"background-color:rgba(255,215,0,0.3);\">change,\"</span> <span style=\"background-color:rgba(255,215,0,0.3);\">the</span> <span style=\"background-color:rgba(255,215,0,0.3);\">President</span> <span style=\"background-color:rgba(255,215,0,0.3);\">says</span> <span style=\"background-color:rgba(255,215,0,0.3);\">.</span> <span style=\"background-color:rgba(255,215,0,0.3);\">He</span> <span style=\"background-color:rgba(255,215,0,0.3);\">credits</span> <span style=\"background-color:rgba(255,215,0,0.3);\">the</span> <span style=\"background-color:rgba(255,215,0,0.3);\">Clean</span> <span style=\"background-color:rgba(255,215,0,0.3);\">Air</span> <span style=\"background-color:rgba(255,215,0,0.3);\">Act</span> <span style=\"background-color:rgba(255,215,0,0.3);\">with</span> <span style=\"background-color:rgba(255,215,0,0.3);\">making</span> <span style=\"background-color:rgba(255,215,0,0.3);\">Americans</span> <span style=\"background-color:rgba(255,215,0,0.3);\">\"a</span> <span style=\"background-color:rgba(255,215,0,0.3);\">lot\"</span> <span style=\"background-color:rgba(255,215,0,0.3);\">healthier</span> <span style=\"background-color:rgba(255,215,0,0.3);\">.</span><br><br><strong>Predicted Summary (rouge-1: 24.24242377180901, rouge-2:  5.263157453254885)</strong><br><span style=\"background-color:rgba(255,215,0,0.3);\">president</span> obama took part in <span style=\"background-color:rgba(255,215,0,0.3);\">a</span> roundtable discussion this week on <span style=\"background-color:rgba(255,215,0,0.3);\">climate</span> <span style=\"background-color:rgba(255,215,0,0.3);\">change</span> and <span style=\"background-color:rgba(255,215,0,0.3);\">public</span> health. <span style=\"background-color:rgba(255,215,0,0.3);\">he</span> <span style=\"background-color:rgba(255,215,0,0.3);\">credits</span> <span style=\"background-color:rgba(255,215,0,0.3);\">the</span> <span style=\"background-color:rgba(255,215,0,0.3);\">clean</span> <span style=\"background-color:rgba(255,215,0,0.3);\">air</span> <span style=\"background-color:rgba(255,215,0,0.3);\">act</span> <span style=\"background-color:rgba(255,215,0,0.3);\">with</span> <span style=\"background-color:rgba(255,215,0,0.3);\">making</span> <span style=\"background-color:rgba(255,215,0,0.3);\">americans</span> <span style=\"background-color:rgba(255,215,0,0.3);\">\"</span> <span style=\"background-color:rgba(255,215,0,0.3);\">a</span> <span style=\"background-color:rgba(255,215,0,0.3);\">lot</span> <span style=\"background-color:rgba(255,215,0,0.3);\">\"</span> <span style=\"background-color:rgba(255,215,0,0.3);\">healthier,</span> in addition to being able to <span style=\"background-color:rgba(255,215,0,0.3);\">\"</span> see <span style=\"background-color:rgba(255,215,0,0.3);\">the</span> mountains in <span style=\"background-color:rgba(255,215,0,0.3);\">the</span> background because they aren't covered in smog, <span style=\"background-color:rgba(255,215,0,0.3);\">\"</span> obama <span style=\"background-color:rgba(255,215,0,0.3);\">says.</span>"
      ],
      "text/plain": [
       "<IPython.core.display.HTML object>"
      ]
     },
     "metadata": {},
     "output_type": "display_data"
    },
    {
     "name": "stdout",
     "output_type": "stream",
     "text": [
      "---\n"
     ]
    },
    {
     "data": {
      "text/html": [
       "<strong>Real Summary</strong><br><span style=\"background-color:rgba(255,215,0,0.3);\">Presidential</span> hopeful's <span style=\"background-color:rgba(255,215,0,0.3);\">video,</span> featuring <span style=\"background-color:rgba(255,215,0,0.3);\">gay</span> <span style=\"background-color:rgba(255,215,0,0.3);\">couple,</span> gets mature <span style=\"background-color:rgba(255,215,0,0.3);\">rating</span> <span style=\"background-color:rgba(255,215,0,0.3);\">in</span> <span style=\"background-color:rgba(255,215,0,0.3);\">Russia</span> <span style=\"background-color:rgba(255,215,0,0.3);\">.</span> Russian <span style=\"background-color:rgba(255,215,0,0.3);\">TV</span> <span style=\"background-color:rgba(255,215,0,0.3);\">channel</span> feared airing <span style=\"background-color:rgba(255,215,0,0.3);\">it</span> would break <span style=\"background-color:rgba(255,215,0,0.3);\">the</span> country's anti-gay propaganda law <span style=\"background-color:rgba(255,215,0,0.3);\">.</span> Clinton announced <span style=\"background-color:rgba(255,215,0,0.3);\">her</span> support for same-sex marriage <span style=\"background-color:rgba(255,215,0,0.3);\">in</span> 2013 <span style=\"background-color:rgba(255,215,0,0.3);\">.</span><br><br><strong>Predicted Summary (rouge-1: 17.283950139308047, rouge-2:  0.0)</strong><br><span style=\"background-color:rgba(255,215,0,0.3);\">the</span> <span style=\"background-color:rgba(255,215,0,0.3);\">video</span> features a <span style=\"background-color:rgba(255,215,0,0.3);\">gay</span> <span style=\"background-color:rgba(255,215,0,0.3);\">couple</span> holding hands, got 18 <span style=\"background-color:rgba(255,215,0,0.3);\">+</span> <span style=\"background-color:rgba(255,215,0,0.3);\">rating</span> from <span style=\"background-color:rgba(255,215,0,0.3);\">the</span> independent <span style=\"background-color:rgba(255,215,0,0.3);\">tv</span> rain <span style=\"background-color:rgba(255,215,0,0.3);\">channel</span> <span style=\"background-color:rgba(255,215,0,0.3);\">in</span> <span style=\"background-color:rgba(255,215,0,0.3);\">russia</span> on monday. <span style=\"background-color:rgba(255,215,0,0.3);\">the</span> <span style=\"background-color:rgba(255,215,0,0.3);\">video</span> was released over <span style=\"background-color:rgba(255,215,0,0.3);\">the</span> weekend to announce <span style=\"background-color:rgba(255,215,0,0.3);\">the</span> start of <span style=\"background-color:rgba(255,215,0,0.3);\">her</span> 2016 u. s. <span style=\"background-color:rgba(255,215,0,0.3);\">presidential</span> campaign. <span style=\"background-color:rgba(255,215,0,0.3);\">it</span> features about five seconds of two men holding hands <span style=\"background-color:rgba(255,215,0,0.3);\">;</span> one of <span style=\"background-color:rgba(255,215,0,0.3);\">the</span> men says <span style=\"background-color:rgba(255,215,0,0.3);\">\"</span> <span style=\"background-color:rgba(255,215,0,0.3);\">gay</span> rights are human rights <span style=\"background-color:rgba(255,215,0,0.3);\">\"</span>"
      ],
      "text/plain": [
       "<IPython.core.display.HTML object>"
      ]
     },
     "metadata": {},
     "output_type": "display_data"
    },
    {
     "name": "stdout",
     "output_type": "stream",
     "text": [
      "---\n"
     ]
    },
    {
     "data": {
      "text/html": [
       "<strong>Real Summary</strong><br>Raul Reyes: In seeking Latino vote, <span style=\"background-color:rgba(255,215,0,0.3);\">Marco</span> <span style=\"background-color:rgba(255,215,0,0.3);\">Rubio</span> <span style=\"background-color:rgba(255,215,0,0.3);\">his</span> own worst enemy <span style=\"background-color:rgba(255,215,0,0.3);\">on</span> two key issues: immigration <span style=\"background-color:rgba(255,215,0,0.3);\">reform,</span> Cuba relations <span style=\"background-color:rgba(255,215,0,0.3);\">.</span> He <span style=\"background-color:rgba(255,215,0,0.3);\">says</span> <span style=\"background-color:rgba(255,215,0,0.3);\">on</span> health care, climate change <span style=\"background-color:rgba(255,215,0,0.3);\">and</span> other issues, he breaks from Latinos' positions. Polls show they don't favor him <span style=\"background-color:rgba(255,215,0,0.3);\">.</span><br><br><strong>Predicted Summary (rouge-1: 12.048192271737575, rouge-2:  0.0)</strong><br><span style=\"background-color:rgba(255,215,0,0.3);\">marco</span> <span style=\"background-color:rgba(255,215,0,0.3);\">rubio</span> is a member of the senate <span style=\"background-color:rgba(255,215,0,0.3);\">\"</span> gang of 8 <span style=\"background-color:rgba(255,215,0,0.3);\">\"</span> that crafted a bipartisan proposal for comprehensive <span style=\"background-color:rgba(255,215,0,0.3);\">reform,</span> including a path to citizenship for the nation's estimated 11 million undocumented immigrants. <span style=\"background-color:rgba(255,215,0,0.3);\">rubio</span> <span style=\"background-color:rgba(255,215,0,0.3);\">says</span> he's not counting <span style=\"background-color:rgba(255,215,0,0.3);\">on</span> <span style=\"background-color:rgba(255,215,0,0.3);\">his</span> ethnicity <span style=\"background-color:rgba(255,215,0,0.3);\">and</span> personal history as the son of immigrants to win over hispanics."
      ],
      "text/plain": [
       "<IPython.core.display.HTML object>"
      ]
     },
     "metadata": {},
     "output_type": "display_data"
    },
    {
     "name": "stdout",
     "output_type": "stream",
     "text": [
      "---\n"
     ]
    },
    {
     "data": {
      "text/html": [
       "<strong>Real Summary</strong><br><span style=\"background-color:rgba(255,215,0,0.3);\">Critically</span> <span style=\"background-color:rgba(255,215,0,0.3);\">acclaimed</span> series <span style=\"background-color:rgba(255,215,0,0.3);\">\"Orphan</span> <span style=\"background-color:rgba(255,215,0,0.3);\">Black\"</span> returns <span style=\"background-color:rgba(255,215,0,0.3);\">.</span> \"Turn: Washington's Spies\" starts <span style=\"background-color:rgba(255,215,0,0.3);\">a</span> second season <span style=\"background-color:rgba(255,215,0,0.3);\">.</span> \"Game <span style=\"background-color:rgba(255,215,0,0.3);\">of</span> Thrones\" <span style=\"background-color:rgba(255,215,0,0.3);\">is</span> back for season five <span style=\"background-color:rgba(255,215,0,0.3);\">.</span><br><br><strong>Predicted Summary (rouge-1: 12.698412265054184, rouge-2:  0.0)</strong><br><span style=\"background-color:rgba(255,215,0,0.3);\">\"</span> <span style=\"background-color:rgba(255,215,0,0.3);\">orphan</span> <span style=\"background-color:rgba(255,215,0,0.3);\">black,</span> <span style=\"background-color:rgba(255,215,0,0.3);\">\"</span> 9 p. m. et, saturday, april 18, bbc america. the show <span style=\"background-color:rgba(255,215,0,0.3);\">is</span> one <span style=\"background-color:rgba(255,215,0,0.3);\">of</span> the most <span style=\"background-color:rgba(255,215,0,0.3);\">critically</span> <span style=\"background-color:rgba(255,215,0,0.3);\">acclaimed</span> shows on the show. <span style=\"background-color:rgba(255,215,0,0.3);\">\"</span> clone club <span style=\"background-color:rgba(255,215,0,0.3);\">\"</span> have <span style=\"background-color:rgba(255,215,0,0.3);\">a</span> lot to look forward to when the show premieres on saturday. <span style=\"background-color:rgba(255,215,0,0.3);\">\"</span> it's incredible... and that's just because we're getting more comfortable <span style=\"background-color:rgba(255,215,0,0.3);\">\"</span>"
      ],
      "text/plain": [
       "<IPython.core.display.HTML object>"
      ]
     },
     "metadata": {},
     "output_type": "display_data"
    },
    {
     "name": "stdout",
     "output_type": "stream",
     "text": [
      "---\n"
     ]
    },
    {
     "data": {
      "text/html": [
       "<strong>Real Summary</strong><br><span style=\"background-color:rgba(255,215,0,0.3);\">The</span> ramp agent fell asleep <span style=\"background-color:rgba(255,215,0,0.3);\">in</span> <span style=\"background-color:rgba(255,215,0,0.3);\">the</span> plane's cargo hold <span style=\"background-color:rgba(255,215,0,0.3);\">.</span> He can no longer work <span style=\"background-color:rgba(255,215,0,0.3);\">on</span> Alaska Airlines flights <span style=\"background-color:rgba(255,215,0,0.3);\">.</span><br><br><strong>Predicted Summary (rouge-1: 9.677418929760684, rouge-2:  2.898550339004462)</strong><br>flight 448 was <span style=\"background-color:rgba(255,215,0,0.3);\">on</span> its way to los angeles, only spent 14 minutes <span style=\"background-color:rgba(255,215,0,0.3);\">in</span> <span style=\"background-color:rgba(255,215,0,0.3);\">the</span> air. <span style=\"background-color:rgba(255,215,0,0.3);\">the</span> man was making himself known <span style=\"background-color:rgba(255,215,0,0.3);\">in</span> other ways as <span style=\"background-color:rgba(255,215,0,0.3);\">the</span> crew and passengers reported unusual banging from <span style=\"background-color:rgba(255,215,0,0.3);\">the</span> belly of <span style=\"background-color:rgba(255,215,0,0.3);\">the</span> boeing 737. <span style=\"background-color:rgba(255,215,0,0.3);\">the</span> incident happened <span style=\"background-color:rgba(255,215,0,0.3);\">in</span> seattle <span style=\"background-color:rgba(255,215,0,0.3);\">-</span> tacoma international airport <span style=\"background-color:rgba(255,215,0,0.3);\">on</span> monday afternoon."
      ],
      "text/plain": [
       "<IPython.core.display.HTML object>"
      ]
     },
     "metadata": {},
     "output_type": "display_data"
    },
    {
     "name": "stdout",
     "output_type": "stream",
     "text": [
      "---\n"
     ]
    },
    {
     "data": {
      "text/html": [
       "<strong>Real Summary</strong><br><span style=\"background-color:rgba(255,215,0,0.3);\">Mullah</span> <span style=\"background-color:rgba(255,215,0,0.3);\">Omar,</span> <span style=\"background-color:rgba(255,215,0,0.3);\">the</span> reclusive founder <span style=\"background-color:rgba(255,215,0,0.3);\">of</span> <span style=\"background-color:rgba(255,215,0,0.3);\">the</span> Afghan <span style=\"background-color:rgba(255,215,0,0.3);\">Taliban,</span> <span style=\"background-color:rgba(255,215,0,0.3);\">is</span> <span style=\"background-color:rgba(255,215,0,0.3);\">still</span> <span style=\"background-color:rgba(255,215,0,0.3);\">in</span> charge, <span style=\"background-color:rgba(255,215,0,0.3);\">a</span> new biography claims <span style=\"background-color:rgba(255,215,0,0.3);\">.</span> An ex-Taliban insider says there <span style=\"background-color:rgba(255,215,0,0.3);\">have</span> been rumors that <span style=\"background-color:rgba(255,215,0,0.3);\">the</span> one-eyed militant <span style=\"background-color:rgba(255,215,0,0.3);\">is</span> dead <span style=\"background-color:rgba(255,215,0,0.3);\">.</span><br><br><strong>Predicted Summary (rouge-1: 20.28985459021215, rouge-2:  2.4390239262344724)</strong><br><span style=\"background-color:rgba(255,215,0,0.3);\">mullah</span> mohammed <span style=\"background-color:rgba(255,215,0,0.3);\">omar</span> <span style=\"background-color:rgba(255,215,0,0.3);\">is</span> <span style=\"background-color:rgba(255,215,0,0.3);\">\"</span> <span style=\"background-color:rgba(255,215,0,0.3);\">still</span> <span style=\"background-color:rgba(255,215,0,0.3);\">the</span> leader <span style=\"background-color:rgba(255,215,0,0.3);\">\"</span> <span style=\"background-color:rgba(255,215,0,0.3);\">of</span> <span style=\"background-color:rgba(255,215,0,0.3);\">the</span> taliban's self <span style=\"background-color:rgba(255,215,0,0.3);\">-</span> declared islamic emirate <span style=\"background-color:rgba(255,215,0,0.3);\">of</span> afghanistan. <span style=\"background-color:rgba(255,215,0,0.3);\">omar</span> was famously camera <span style=\"background-color:rgba(255,215,0,0.3);\">-</span> shy during <span style=\"background-color:rgba(255,215,0,0.3);\">a</span> taliban'six <span style=\"background-color:rgba(255,215,0,0.3);\">-</span> year rule over most <span style=\"background-color:rgba(255,215,0,0.3);\">of</span> afghanistan's afghanistan <span style=\"background-color:rgba(255,215,0,0.3);\">-</span> led bombing campaign. <span style=\"background-color:rgba(255,215,0,0.3);\">the</span> <span style=\"background-color:rgba(255,215,0,0.3);\">taliban</span> <span style=\"background-color:rgba(255,215,0,0.3);\">have</span> released written statements purportedly made by <span style=\"background-color:rgba(255,215,0,0.3);\">the</span> leader <span style=\"background-color:rgba(255,215,0,0.3);\">-</span> <span style=\"background-color:rgba(255,215,0,0.3);\">in</span> hiding."
      ],
      "text/plain": [
       "<IPython.core.display.HTML object>"
      ]
     },
     "metadata": {},
     "output_type": "display_data"
    },
    {
     "name": "stdout",
     "output_type": "stream",
     "text": [
      "---\n"
     ]
    },
    {
     "data": {
      "text/html": [
       "<strong>Real Summary</strong><br><span style=\"background-color:rgba(255,215,0,0.3);\">Michelle</span> <span style=\"background-color:rgba(255,215,0,0.3);\">MacLaren</span> <span style=\"background-color:rgba(255,215,0,0.3);\">is</span> no longer <span style=\"background-color:rgba(255,215,0,0.3);\">set</span> to direct <span style=\"background-color:rgba(255,215,0,0.3);\">the</span> <span style=\"background-color:rgba(255,215,0,0.3);\">first</span> <span style=\"background-color:rgba(255,215,0,0.3);\">\"Wonder</span> <span style=\"background-color:rgba(255,215,0,0.3);\">Woman\"</span> <span style=\"background-color:rgba(255,215,0,0.3);\">theatrical</span> <span style=\"background-color:rgba(255,215,0,0.3);\">movie</span> <span style=\"background-color:rgba(255,215,0,0.3);\">.</span> <span style=\"background-color:rgba(255,215,0,0.3);\">MacLaren</span> left <span style=\"background-color:rgba(255,215,0,0.3);\">the</span> project over \"creative differences\" <span style=\"background-color:rgba(255,215,0,0.3);\">Movie</span> <span style=\"background-color:rgba(255,215,0,0.3);\">is</span> currently <span style=\"background-color:rgba(255,215,0,0.3);\">set</span> <span style=\"background-color:rgba(255,215,0,0.3);\">for</span> <span style=\"background-color:rgba(255,215,0,0.3);\">2017</span> <span style=\"background-color:rgba(255,215,0,0.3);\">.</span><br><br><strong>Predicted Summary (rouge-1: 26.666666193888894, rouge-2:  8.333332871913607)</strong><br><span style=\"background-color:rgba(255,215,0,0.3);\">michelle</span> <span style=\"background-color:rgba(255,215,0,0.3);\">maclaren</span> <span style=\"background-color:rgba(255,215,0,0.3);\">is</span> leaving <span style=\"background-color:rgba(255,215,0,0.3);\">the</span> upcoming <span style=\"background-color:rgba(255,215,0,0.3);\">\"</span> <span style=\"background-color:rgba(255,215,0,0.3);\">wonder</span> <span style=\"background-color:rgba(255,215,0,0.3);\">woman</span> <span style=\"background-color:rgba(255,215,0,0.3);\">\"</span> <span style=\"background-color:rgba(255,215,0,0.3);\">movie.</span> <span style=\"background-color:rgba(255,215,0,0.3);\">the</span> film <span style=\"background-color:rgba(255,215,0,0.3);\">is</span> <span style=\"background-color:rgba(255,215,0,0.3);\">the</span> <span style=\"background-color:rgba(255,215,0,0.3);\">first</span> <span style=\"background-color:rgba(255,215,0,0.3);\">theatrical</span> <span style=\"background-color:rgba(255,215,0,0.3);\">movie</span> centering around <span style=\"background-color:rgba(255,215,0,0.3);\">the</span> most popular female superhero. <span style=\"background-color:rgba(255,215,0,0.3);\">the</span> <span style=\"background-color:rgba(255,215,0,0.3);\">movie,</span> starring gal gadot in <span style=\"background-color:rgba(255,215,0,0.3);\">the</span> title role of <span style=\"background-color:rgba(255,215,0,0.3);\">the</span> amazon princess, <span style=\"background-color:rgba(255,215,0,0.3);\">is</span> still <span style=\"background-color:rgba(255,215,0,0.3);\">set</span> <span style=\"background-color:rgba(255,215,0,0.3);\">for</span> release on june 23, <span style=\"background-color:rgba(255,215,0,0.3);\">2017.</span>"
      ],
      "text/plain": [
       "<IPython.core.display.HTML object>"
      ]
     },
     "metadata": {},
     "output_type": "display_data"
    },
    {
     "name": "stdout",
     "output_type": "stream",
     "text": [
      "---\n"
     ]
    },
    {
     "data": {
      "text/html": [
       "<strong>Real Summary</strong><br>British tabloid releases <span style=\"background-color:rgba(255,215,0,0.3);\">video</span> it says shows <span style=\"background-color:rgba(255,215,0,0.3);\">the</span> robbery being carried out . British <span style=\"background-color:rgba(255,215,0,0.3);\">police</span> <span style=\"background-color:rgba(255,215,0,0.3);\">say</span> <span style=\"background-color:rgba(255,215,0,0.3);\">they</span> <span style=\"background-color:rgba(255,215,0,0.3);\">didn't</span> <span style=\"background-color:rgba(255,215,0,0.3);\">respond</span> <span style=\"background-color:rgba(255,215,0,0.3);\">to</span> <span style=\"background-color:rgba(255,215,0,0.3);\">a</span> <span style=\"background-color:rgba(255,215,0,0.3);\">burglar</span> <span style=\"background-color:rgba(255,215,0,0.3);\">alarm</span> in jewelry district . <span style=\"background-color:rgba(255,215,0,0.3);\">Police</span> give no value <span style=\"background-color:rgba(255,215,0,0.3);\">of</span> <span style=\"background-color:rgba(255,215,0,0.3);\">the</span> amount taken in <span style=\"background-color:rgba(255,215,0,0.3);\">the</span> heist in London's jewelry district .<br><br><strong>Predicted Summary (rouge-1: 32.432431938276125, rouge-2:  11.494252381556368)</strong><br><span style=\"background-color:rgba(255,215,0,0.3);\">police</span> <span style=\"background-color:rgba(255,215,0,0.3);\">say</span> <span style=\"background-color:rgba(255,215,0,0.3);\">the</span> <span style=\"background-color:rgba(255,215,0,0.3);\">burglar</span> <span style=\"background-color:rgba(255,215,0,0.3);\">alarm</span> had been activated at hatton garden safe deposit ltd. <span style=\"background-color:rgba(255,215,0,0.3);\">police</span> <span style=\"background-color:rgba(255,215,0,0.3);\">say</span> <span style=\"background-color:rgba(255,215,0,0.3);\">they</span> knew <span style=\"background-color:rgba(255,215,0,0.3);\">a</span> burglary <span style=\"background-color:rgba(255,215,0,0.3);\">alarm</span> went off but <span style=\"background-color:rgba(255,215,0,0.3);\">didn't</span> <span style=\"background-color:rgba(255,215,0,0.3);\">respond.</span> <span style=\"background-color:rgba(255,215,0,0.3);\">police</span> have not released any <span style=\"background-color:rgba(255,215,0,0.3);\">video</span> <span style=\"background-color:rgba(255,215,0,0.3);\">of</span> <span style=\"background-color:rgba(255,215,0,0.3);\">the</span> thief, <span style=\"background-color:rgba(255,215,0,0.3);\">police</span> <span style=\"background-color:rgba(255,215,0,0.3);\">say.</span> <span style=\"background-color:rgba(255,215,0,0.3);\">police</span> are still identifying <span style=\"background-color:rgba(255,215,0,0.3);\">the</span> owners <span style=\"background-color:rgba(255,215,0,0.3);\">of</span> ransacked safe deposit boxes and trying <span style=\"background-color:rgba(255,215,0,0.3);\">to</span> contact them."
      ],
      "text/plain": [
       "<IPython.core.display.HTML object>"
      ]
     },
     "metadata": {},
     "output_type": "display_data"
    },
    {
     "name": "stdout",
     "output_type": "stream",
     "text": [
      "---\n"
     ]
    }
   ],
   "source": [
    "# Showing the results\n",
    "from IPython.core.display import display, HTML\n",
    "from rouge import Rouge \n",
    "\n",
    "rouge_new = Rouge()\n",
    "# scores = rouge.get_scores(hypothesis, reference)\n",
    "\n",
    "for i in range(10):\n",
    "    article = results[\"article\"][i]\n",
    "    highlight = results[\"highlights\"][i]\n",
    "    prediction = results[\"pred\"][i]\n",
    "    score = rouge_new.get_scores(highlight, prediction)\n",
    "    \n",
    "    rouge_1_f = score[0][\"rouge-1\"][\"f\"] * 100\n",
    "    rouge_2_f = score[0][\"rouge-2\"][\"f\"] * 100\n",
    "    s = f\"rouge-1: {rouge_1_f}, rouge-2:  {rouge_2_f}\" \n",
    "    \n",
    "    match_article_prediction = display_string_matching(article, prediction, \n",
    "                                                       both=True, sentences=True,\n",
    "                                                      titles=[\"Article\", \"Predicted Summary\"])\n",
    "    \n",
    "    match_summary = display_string_matching(highlight, prediction, both=True, \n",
    "                                    sentences=False, \n",
    "                                    titles=[\"Real Summary\", f\"Predicted Summary ({s})\"])\n",
    "    \n",
    "#     display(HTML(match_article_prediction)\n",
    "    display(HTML(match_summary))\n",
    "    print(\"---\")"
   ]
  },
  {
   "cell_type": "code",
   "execution_count": 31,
   "id": "5a484d70",
   "metadata": {},
   "outputs": [
    {
     "name": "stdout",
     "output_type": "stream",
     "text": [
      "showing info https://raw.githubusercontent.com/nltk/nltk_data/gh-pages/index.xml\n"
     ]
    }
   ],
   "source": [
    "# Credits tot Mauro Di Pietro\n",
    "# https://towardsdatascience.com/text-summarization-with-nlp-textrank-vs-seq2seq-vs-bart-474943efeb09\n",
    "\n",
    "import re\n",
    "import difflib\n",
    "import nltk\n",
    "nltk.download()\n",
    "\n",
    "'''\n",
    "Find the matching substrings in 2 strings.\n",
    ":parameter\n",
    "    :param a: string - raw text\n",
    "    :param b: string - raw text\n",
    ":return\n",
    "    2 lists used in to display matches\n",
    "'''\n",
    "def utils_split_sentences(a, b):\n",
    "    ## find clean matches\n",
    "    match = difflib.SequenceMatcher(isjunk=None, a=a, b=b, autojunk=True)\n",
    "    lst_match = [block for block in match.get_matching_blocks() if block.size > 20]\n",
    "    \n",
    "    ## difflib didn't find any match\n",
    "    if len(lst_match) == 0:\n",
    "        lst_a, lst_b = nltk.sent_tokenize(a), nltk.sent_tokenize(b)\n",
    "    \n",
    "    ## work with matches\n",
    "    else:\n",
    "        first_m, last_m = lst_match[0], lst_match[-1]\n",
    "\n",
    "        ### a\n",
    "        string = a[0 : first_m.a]\n",
    "        lst_a = [t for t in nltk.sent_tokenize(string)]\n",
    "        for n in range(len(lst_match)):\n",
    "            m = lst_match[n]\n",
    "            string = a[m.a : m.a+m.size]\n",
    "            lst_a.append(string)\n",
    "            if n+1 < len(lst_match):\n",
    "                next_m = lst_match[n+1]\n",
    "                string = a[m.a+m.size : next_m.a]\n",
    "                lst_a = lst_a + [t for t in nltk.sent_tokenize(string)]\n",
    "            else:\n",
    "                break\n",
    "        string = a[last_m.a+last_m.size :]\n",
    "        lst_a = lst_a + [t for t in nltk.sent_tokenize(string)]\n",
    "\n",
    "        ### b\n",
    "        string = b[0 : first_m.b]\n",
    "        lst_b = [t for t in nltk.sent_tokenize(string)]\n",
    "        for n in range(len(lst_match)):\n",
    "            m = lst_match[n]\n",
    "            string = b[m.b : m.b+m.size]\n",
    "            lst_b.append(string)\n",
    "            if n+1 < len(lst_match):\n",
    "                next_m = lst_match[n+1]\n",
    "                string = b[m.b+m.size : next_m.b]\n",
    "                lst_b = lst_b + [t for t in nltk.sent_tokenize(string)]\n",
    "            else:\n",
    "                break\n",
    "        string = b[last_m.b+last_m.size :]\n",
    "        lst_b = lst_b + [t for t in nltk.sent_tokenize(string)]\n",
    "    \n",
    "    return lst_a, lst_b\n",
    "\n",
    "\n",
    "'''\n",
    "Highlights the matched strings in text.\n",
    ":parameter\n",
    "    :param a: string - raw text\n",
    "    :param b: string - raw text\n",
    "    :param both: bool - search a in b and, if True, viceversa\n",
    "    :param sentences: bool - if False matches single words\n",
    ":return\n",
    "    text html, it can be visualized on notebook with display(HTML(text))\n",
    "'''\n",
    "def display_string_matching(a, b, both=True, sentences=True, titles=[]):\n",
    "    if sentences is True:\n",
    "        lst_a, lst_b = utils_split_sentences(a, b)\n",
    "    else:\n",
    "        lst_a, lst_b = a.split(), b.split()       \n",
    "    \n",
    "    ## highlight a\n",
    "    first_text = []\n",
    "    for i in lst_a:\n",
    "        if re.sub(r'[^\\w\\s]', '', i.lower()) in [re.sub(r'[^\\w\\s]', '', z.lower()) for z in lst_b]:\n",
    "            first_text.append('<span style=\"background-color:rgba(255,215,0,0.3);\">' + i + '</span>')\n",
    "        else:\n",
    "            first_text.append(i)\n",
    "    first_text = ' '.join(first_text)\n",
    "    \n",
    "    ## highlight b\n",
    "    second_text = []\n",
    "    if both is True:\n",
    "        for i in lst_b:\n",
    "            if re.sub(r'[^\\w\\s]', '', i.lower()) in [re.sub(r'[^\\w\\s]', '', z.lower()) for z in lst_a]:\n",
    "                second_text.append('<span style=\"background-color:rgba(255,215,0,0.3);\">' + i + '</span>')\n",
    "            else:\n",
    "                second_text.append(i)\n",
    "    else:\n",
    "        second_text.append(b) \n",
    "    second_text = ' '.join(second_text)\n",
    "    \n",
    "    ## concatenate\n",
    "    if len(titles) > 0:\n",
    "        first_text = \"<strong>\"+titles[0]+\"</strong><br>\"+first_text\n",
    "    if len(titles) > 1:\n",
    "        second_text = \"<strong>\"+titles[1]+\"</strong><br>\"+second_text\n",
    "    else:\n",
    "        second_text = \"---\"*65+\"<br><br>\"+second_text\n",
    "    final_text = first_text +'<br><br>'+ second_text\n",
    "    return final_text"
   ]
  }
 ],
 "metadata": {
  "kernelspec": {
   "display_name": "NLP-summarization",
   "language": "python",
   "name": "nlp-summarization"
  },
  "language_info": {
   "codemirror_mode": {
    "name": "ipython",
    "version": 3
   },
   "file_extension": ".py",
   "mimetype": "text/x-python",
   "name": "python",
   "nbconvert_exporter": "python",
   "pygments_lexer": "ipython3",
   "version": "3.10.2"
  }
 },
 "nbformat": 4,
 "nbformat_minor": 5
}
